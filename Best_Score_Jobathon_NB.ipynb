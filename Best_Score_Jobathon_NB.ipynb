{
  "nbformat": 4,
  "nbformat_minor": 0,
  "metadata": {
    "colab": {
      "name": "Best_Score_Jobathon_NB.ipynb",
      "provenance": []
    },
    "kernelspec": {
      "name": "python3",
      "display_name": "Python 3"
    },
    "language_info": {
      "name": "python"
    }
  },
  "cells": [
    {
      "cell_type": "code",
      "metadata": {
        "id": "gNeCDvSm4E35"
      },
      "source": [
        "#Importing the required libraries\n",
        "\n",
        "import numpy as np\n",
        "import pandas as pd\n",
        "\n",
        "import matplotlib.pyplot as plt\n",
        "%matplotlib inline\n",
        "import seaborn as sns\n",
        "\n",
        "import warnings\n",
        "warnings.filterwarnings('ignore')"
      ],
      "execution_count": 1,
      "outputs": []
    },
    {
      "cell_type": "code",
      "metadata": {
        "id": "6d5cQoMU4eMH"
      },
      "source": [
        "#Reading the files\n",
        "\n",
        "data_main = pd.read_csv('TRAIN.csv')\n",
        "test_main = pd.read_csv('TEST_FINAL.csv')"
      ],
      "execution_count": 2,
      "outputs": []
    },
    {
      "cell_type": "code",
      "metadata": {
        "colab": {
          "base_uri": "https://localhost:8080/",
          "height": 204
        },
        "id": "F012rTh6PwZp",
        "outputId": "ba941413-03b7-4f46-fa89-916179ff0af6"
      },
      "source": [
        "data_main.head()"
      ],
      "execution_count": 3,
      "outputs": [
        {
          "output_type": "execute_result",
          "data": {
            "text/html": [
              "<div>\n",
              "<style scoped>\n",
              "    .dataframe tbody tr th:only-of-type {\n",
              "        vertical-align: middle;\n",
              "    }\n",
              "\n",
              "    .dataframe tbody tr th {\n",
              "        vertical-align: top;\n",
              "    }\n",
              "\n",
              "    .dataframe thead th {\n",
              "        text-align: right;\n",
              "    }\n",
              "</style>\n",
              "<table border=\"1\" class=\"dataframe\">\n",
              "  <thead>\n",
              "    <tr style=\"text-align: right;\">\n",
              "      <th></th>\n",
              "      <th>ID</th>\n",
              "      <th>Store_id</th>\n",
              "      <th>Store_Type</th>\n",
              "      <th>Location_Type</th>\n",
              "      <th>Region_Code</th>\n",
              "      <th>Date</th>\n",
              "      <th>Holiday</th>\n",
              "      <th>Discount</th>\n",
              "      <th>#Order</th>\n",
              "      <th>Sales</th>\n",
              "    </tr>\n",
              "  </thead>\n",
              "  <tbody>\n",
              "    <tr>\n",
              "      <th>0</th>\n",
              "      <td>T1000001</td>\n",
              "      <td>1</td>\n",
              "      <td>S1</td>\n",
              "      <td>L3</td>\n",
              "      <td>R1</td>\n",
              "      <td>2018-01-01</td>\n",
              "      <td>1</td>\n",
              "      <td>Yes</td>\n",
              "      <td>9</td>\n",
              "      <td>7011.84</td>\n",
              "    </tr>\n",
              "    <tr>\n",
              "      <th>1</th>\n",
              "      <td>T1000002</td>\n",
              "      <td>253</td>\n",
              "      <td>S4</td>\n",
              "      <td>L2</td>\n",
              "      <td>R1</td>\n",
              "      <td>2018-01-01</td>\n",
              "      <td>1</td>\n",
              "      <td>Yes</td>\n",
              "      <td>60</td>\n",
              "      <td>51789.12</td>\n",
              "    </tr>\n",
              "    <tr>\n",
              "      <th>2</th>\n",
              "      <td>T1000003</td>\n",
              "      <td>252</td>\n",
              "      <td>S3</td>\n",
              "      <td>L2</td>\n",
              "      <td>R1</td>\n",
              "      <td>2018-01-01</td>\n",
              "      <td>1</td>\n",
              "      <td>Yes</td>\n",
              "      <td>42</td>\n",
              "      <td>36868.20</td>\n",
              "    </tr>\n",
              "    <tr>\n",
              "      <th>3</th>\n",
              "      <td>T1000004</td>\n",
              "      <td>251</td>\n",
              "      <td>S2</td>\n",
              "      <td>L3</td>\n",
              "      <td>R1</td>\n",
              "      <td>2018-01-01</td>\n",
              "      <td>1</td>\n",
              "      <td>Yes</td>\n",
              "      <td>23</td>\n",
              "      <td>19715.16</td>\n",
              "    </tr>\n",
              "    <tr>\n",
              "      <th>4</th>\n",
              "      <td>T1000005</td>\n",
              "      <td>250</td>\n",
              "      <td>S2</td>\n",
              "      <td>L3</td>\n",
              "      <td>R4</td>\n",
              "      <td>2018-01-01</td>\n",
              "      <td>1</td>\n",
              "      <td>Yes</td>\n",
              "      <td>62</td>\n",
              "      <td>45614.52</td>\n",
              "    </tr>\n",
              "  </tbody>\n",
              "</table>\n",
              "</div>"
            ],
            "text/plain": [
              "         ID  Store_id Store_Type  ... Discount #Order     Sales\n",
              "0  T1000001         1         S1  ...      Yes      9   7011.84\n",
              "1  T1000002       253         S4  ...      Yes     60  51789.12\n",
              "2  T1000003       252         S3  ...      Yes     42  36868.20\n",
              "3  T1000004       251         S2  ...      Yes     23  19715.16\n",
              "4  T1000005       250         S2  ...      Yes     62  45614.52\n",
              "\n",
              "[5 rows x 10 columns]"
            ]
          },
          "metadata": {},
          "execution_count": 3
        }
      ]
    },
    {
      "cell_type": "code",
      "metadata": {
        "colab": {
          "base_uri": "https://localhost:8080/"
        },
        "id": "xkCgKWMUICA1",
        "outputId": "37cc9ae7-0fcf-493b-f650-8025881feedd"
      },
      "source": [
        "data_main['#Order'].describe()"
      ],
      "execution_count": 4,
      "outputs": [
        {
          "output_type": "execute_result",
          "data": {
            "text/plain": [
              "count    188340.000000\n",
              "mean         68.205692\n",
              "std          30.467415\n",
              "min           0.000000\n",
              "25%          48.000000\n",
              "50%          63.000000\n",
              "75%          82.000000\n",
              "max         371.000000\n",
              "Name: #Order, dtype: float64"
            ]
          },
          "metadata": {},
          "execution_count": 4
        }
      ]
    },
    {
      "cell_type": "code",
      "metadata": {
        "id": "vVd3H4fuILKU"
      },
      "source": [
        "#Removing the outliers as per mean + 2.5*std\n",
        "data_main = data_main[data_main['#Order'] < 145]"
      ],
      "execution_count": 5,
      "outputs": []
    },
    {
      "cell_type": "code",
      "metadata": {
        "colab": {
          "base_uri": "https://localhost:8080/"
        },
        "id": "vEp0mQKFIF2Y",
        "outputId": "97737cd7-24e6-4f2c-f88b-9c0611037c6e"
      },
      "source": [
        "data_main['Sales'].describe()"
      ],
      "execution_count": 6,
      "outputs": [
        {
          "output_type": "execute_result",
          "data": {
            "text/plain": [
              "count    183649.000000\n",
              "mean      41335.544699\n",
              "std       15974.180278\n",
              "min           0.000000\n",
              "25%       30179.100000\n",
              "50%       39192.000000\n",
              "75%       50715.000000\n",
              "max      137356.560000\n",
              "Name: Sales, dtype: float64"
            ]
          },
          "metadata": {},
          "execution_count": 6
        }
      ]
    },
    {
      "cell_type": "code",
      "metadata": {
        "colab": {
          "base_uri": "https://localhost:8080/"
        },
        "id": "WUoUpJb5G4pB",
        "outputId": "91764c9b-9250-4f04-9733-e1d5630a08b2"
      },
      "source": [
        "41335.544699+2.5*15974.180278"
      ],
      "execution_count": 7,
      "outputs": [
        {
          "output_type": "execute_result",
          "data": {
            "text/plain": [
              "81270.995394"
            ]
          },
          "metadata": {},
          "execution_count": 7
        }
      ]
    },
    {
      "cell_type": "code",
      "metadata": {
        "id": "Ho_nYgp2FxP9"
      },
      "source": [
        "#Removing the outliers as per mean + 2.5*std\n",
        "data_main = data_main[data_main['Sales'] < 82000]"
      ],
      "execution_count": 8,
      "outputs": []
    },
    {
      "cell_type": "code",
      "metadata": {
        "id": "wSzfuq3Q4nE4"
      },
      "source": [
        "df_train= data_main.copy()\n",
        "df_test = test_main.copy()"
      ],
      "execution_count": 9,
      "outputs": []
    },
    {
      "cell_type": "code",
      "metadata": {
        "colab": {
          "base_uri": "https://localhost:8080/"
        },
        "id": "nwlvGTmx4r73",
        "outputId": "0963bf95-5184-4d5b-c436-74027be55fd1"
      },
      "source": [
        "print(df_train.shape, df_test.shape)"
      ],
      "execution_count": 10,
      "outputs": [
        {
          "output_type": "stream",
          "name": "stdout",
          "text": [
            "(180843, 10) (22265, 8)\n"
          ]
        }
      ]
    },
    {
      "cell_type": "code",
      "metadata": {
        "colab": {
          "base_uri": "https://localhost:8080/",
          "height": 358
        },
        "id": "ue1sAYnA4yHI",
        "outputId": "4bc7cf5d-d20e-43e2-e3c3-ed48173ed9f7"
      },
      "source": [
        "df_train.head(10)"
      ],
      "execution_count": 11,
      "outputs": [
        {
          "output_type": "execute_result",
          "data": {
            "text/html": [
              "<div>\n",
              "<style scoped>\n",
              "    .dataframe tbody tr th:only-of-type {\n",
              "        vertical-align: middle;\n",
              "    }\n",
              "\n",
              "    .dataframe tbody tr th {\n",
              "        vertical-align: top;\n",
              "    }\n",
              "\n",
              "    .dataframe thead th {\n",
              "        text-align: right;\n",
              "    }\n",
              "</style>\n",
              "<table border=\"1\" class=\"dataframe\">\n",
              "  <thead>\n",
              "    <tr style=\"text-align: right;\">\n",
              "      <th></th>\n",
              "      <th>ID</th>\n",
              "      <th>Store_id</th>\n",
              "      <th>Store_Type</th>\n",
              "      <th>Location_Type</th>\n",
              "      <th>Region_Code</th>\n",
              "      <th>Date</th>\n",
              "      <th>Holiday</th>\n",
              "      <th>Discount</th>\n",
              "      <th>#Order</th>\n",
              "      <th>Sales</th>\n",
              "    </tr>\n",
              "  </thead>\n",
              "  <tbody>\n",
              "    <tr>\n",
              "      <th>0</th>\n",
              "      <td>T1000001</td>\n",
              "      <td>1</td>\n",
              "      <td>S1</td>\n",
              "      <td>L3</td>\n",
              "      <td>R1</td>\n",
              "      <td>2018-01-01</td>\n",
              "      <td>1</td>\n",
              "      <td>Yes</td>\n",
              "      <td>9</td>\n",
              "      <td>7011.84</td>\n",
              "    </tr>\n",
              "    <tr>\n",
              "      <th>1</th>\n",
              "      <td>T1000002</td>\n",
              "      <td>253</td>\n",
              "      <td>S4</td>\n",
              "      <td>L2</td>\n",
              "      <td>R1</td>\n",
              "      <td>2018-01-01</td>\n",
              "      <td>1</td>\n",
              "      <td>Yes</td>\n",
              "      <td>60</td>\n",
              "      <td>51789.12</td>\n",
              "    </tr>\n",
              "    <tr>\n",
              "      <th>2</th>\n",
              "      <td>T1000003</td>\n",
              "      <td>252</td>\n",
              "      <td>S3</td>\n",
              "      <td>L2</td>\n",
              "      <td>R1</td>\n",
              "      <td>2018-01-01</td>\n",
              "      <td>1</td>\n",
              "      <td>Yes</td>\n",
              "      <td>42</td>\n",
              "      <td>36868.20</td>\n",
              "    </tr>\n",
              "    <tr>\n",
              "      <th>3</th>\n",
              "      <td>T1000004</td>\n",
              "      <td>251</td>\n",
              "      <td>S2</td>\n",
              "      <td>L3</td>\n",
              "      <td>R1</td>\n",
              "      <td>2018-01-01</td>\n",
              "      <td>1</td>\n",
              "      <td>Yes</td>\n",
              "      <td>23</td>\n",
              "      <td>19715.16</td>\n",
              "    </tr>\n",
              "    <tr>\n",
              "      <th>4</th>\n",
              "      <td>T1000005</td>\n",
              "      <td>250</td>\n",
              "      <td>S2</td>\n",
              "      <td>L3</td>\n",
              "      <td>R4</td>\n",
              "      <td>2018-01-01</td>\n",
              "      <td>1</td>\n",
              "      <td>Yes</td>\n",
              "      <td>62</td>\n",
              "      <td>45614.52</td>\n",
              "    </tr>\n",
              "    <tr>\n",
              "      <th>5</th>\n",
              "      <td>T1000006</td>\n",
              "      <td>249</td>\n",
              "      <td>S1</td>\n",
              "      <td>L3</td>\n",
              "      <td>R2</td>\n",
              "      <td>2018-01-01</td>\n",
              "      <td>1</td>\n",
              "      <td>Yes</td>\n",
              "      <td>39</td>\n",
              "      <td>34211.22</td>\n",
              "    </tr>\n",
              "    <tr>\n",
              "      <th>6</th>\n",
              "      <td>T1000007</td>\n",
              "      <td>248</td>\n",
              "      <td>S1</td>\n",
              "      <td>L1</td>\n",
              "      <td>R2</td>\n",
              "      <td>2018-01-01</td>\n",
              "      <td>1</td>\n",
              "      <td>Yes</td>\n",
              "      <td>40</td>\n",
              "      <td>35352.66</td>\n",
              "    </tr>\n",
              "    <tr>\n",
              "      <th>7</th>\n",
              "      <td>T1000008</td>\n",
              "      <td>247</td>\n",
              "      <td>S1</td>\n",
              "      <td>L1</td>\n",
              "      <td>R3</td>\n",
              "      <td>2018-01-01</td>\n",
              "      <td>1</td>\n",
              "      <td>Yes</td>\n",
              "      <td>64</td>\n",
              "      <td>52650.00</td>\n",
              "    </tr>\n",
              "    <tr>\n",
              "      <th>8</th>\n",
              "      <td>T1000009</td>\n",
              "      <td>246</td>\n",
              "      <td>S3</td>\n",
              "      <td>L1</td>\n",
              "      <td>R3</td>\n",
              "      <td>2018-01-01</td>\n",
              "      <td>1</td>\n",
              "      <td>Yes</td>\n",
              "      <td>62</td>\n",
              "      <td>42633.78</td>\n",
              "    </tr>\n",
              "    <tr>\n",
              "      <th>9</th>\n",
              "      <td>T1000010</td>\n",
              "      <td>254</td>\n",
              "      <td>S4</td>\n",
              "      <td>L1</td>\n",
              "      <td>R1</td>\n",
              "      <td>2018-01-01</td>\n",
              "      <td>1</td>\n",
              "      <td>Yes</td>\n",
              "      <td>87</td>\n",
              "      <td>62572.80</td>\n",
              "    </tr>\n",
              "  </tbody>\n",
              "</table>\n",
              "</div>"
            ],
            "text/plain": [
              "         ID  Store_id Store_Type  ... Discount #Order     Sales\n",
              "0  T1000001         1         S1  ...      Yes      9   7011.84\n",
              "1  T1000002       253         S4  ...      Yes     60  51789.12\n",
              "2  T1000003       252         S3  ...      Yes     42  36868.20\n",
              "3  T1000004       251         S2  ...      Yes     23  19715.16\n",
              "4  T1000005       250         S2  ...      Yes     62  45614.52\n",
              "5  T1000006       249         S1  ...      Yes     39  34211.22\n",
              "6  T1000007       248         S1  ...      Yes     40  35352.66\n",
              "7  T1000008       247         S1  ...      Yes     64  52650.00\n",
              "8  T1000009       246         S3  ...      Yes     62  42633.78\n",
              "9  T1000010       254         S4  ...      Yes     87  62572.80\n",
              "\n",
              "[10 rows x 10 columns]"
            ]
          },
          "metadata": {},
          "execution_count": 11
        }
      ]
    },
    {
      "cell_type": "code",
      "metadata": {
        "colab": {
          "base_uri": "https://localhost:8080/",
          "height": 204
        },
        "id": "tS8xJzAQ43g7",
        "outputId": "5cf4d729-be19-4299-d5cc-3cb4f403d0aa"
      },
      "source": [
        "df_test.head()"
      ],
      "execution_count": 12,
      "outputs": [
        {
          "output_type": "execute_result",
          "data": {
            "text/html": [
              "<div>\n",
              "<style scoped>\n",
              "    .dataframe tbody tr th:only-of-type {\n",
              "        vertical-align: middle;\n",
              "    }\n",
              "\n",
              "    .dataframe tbody tr th {\n",
              "        vertical-align: top;\n",
              "    }\n",
              "\n",
              "    .dataframe thead th {\n",
              "        text-align: right;\n",
              "    }\n",
              "</style>\n",
              "<table border=\"1\" class=\"dataframe\">\n",
              "  <thead>\n",
              "    <tr style=\"text-align: right;\">\n",
              "      <th></th>\n",
              "      <th>ID</th>\n",
              "      <th>Store_id</th>\n",
              "      <th>Store_Type</th>\n",
              "      <th>Location_Type</th>\n",
              "      <th>Region_Code</th>\n",
              "      <th>Date</th>\n",
              "      <th>Holiday</th>\n",
              "      <th>Discount</th>\n",
              "    </tr>\n",
              "  </thead>\n",
              "  <tbody>\n",
              "    <tr>\n",
              "      <th>0</th>\n",
              "      <td>T1188341</td>\n",
              "      <td>171</td>\n",
              "      <td>S4</td>\n",
              "      <td>L2</td>\n",
              "      <td>R3</td>\n",
              "      <td>2019-06-01</td>\n",
              "      <td>0</td>\n",
              "      <td>No</td>\n",
              "    </tr>\n",
              "    <tr>\n",
              "      <th>1</th>\n",
              "      <td>T1188342</td>\n",
              "      <td>172</td>\n",
              "      <td>S1</td>\n",
              "      <td>L1</td>\n",
              "      <td>R1</td>\n",
              "      <td>2019-06-01</td>\n",
              "      <td>0</td>\n",
              "      <td>No</td>\n",
              "    </tr>\n",
              "    <tr>\n",
              "      <th>2</th>\n",
              "      <td>T1188343</td>\n",
              "      <td>173</td>\n",
              "      <td>S4</td>\n",
              "      <td>L2</td>\n",
              "      <td>R1</td>\n",
              "      <td>2019-06-01</td>\n",
              "      <td>0</td>\n",
              "      <td>No</td>\n",
              "    </tr>\n",
              "    <tr>\n",
              "      <th>3</th>\n",
              "      <td>T1188344</td>\n",
              "      <td>174</td>\n",
              "      <td>S1</td>\n",
              "      <td>L1</td>\n",
              "      <td>R4</td>\n",
              "      <td>2019-06-01</td>\n",
              "      <td>0</td>\n",
              "      <td>No</td>\n",
              "    </tr>\n",
              "    <tr>\n",
              "      <th>4</th>\n",
              "      <td>T1188345</td>\n",
              "      <td>170</td>\n",
              "      <td>S1</td>\n",
              "      <td>L1</td>\n",
              "      <td>R2</td>\n",
              "      <td>2019-06-01</td>\n",
              "      <td>0</td>\n",
              "      <td>No</td>\n",
              "    </tr>\n",
              "  </tbody>\n",
              "</table>\n",
              "</div>"
            ],
            "text/plain": [
              "         ID  Store_id Store_Type  ...        Date Holiday Discount\n",
              "0  T1188341       171         S4  ...  2019-06-01       0       No\n",
              "1  T1188342       172         S1  ...  2019-06-01       0       No\n",
              "2  T1188343       173         S4  ...  2019-06-01       0       No\n",
              "3  T1188344       174         S1  ...  2019-06-01       0       No\n",
              "4  T1188345       170         S1  ...  2019-06-01       0       No\n",
              "\n",
              "[5 rows x 8 columns]"
            ]
          },
          "metadata": {},
          "execution_count": 12
        }
      ]
    },
    {
      "cell_type": "code",
      "metadata": {
        "colab": {
          "base_uri": "https://localhost:8080/"
        },
        "id": "5_I_L6AQ45aN",
        "outputId": "93293e71-9dc2-4a13-bfff-6d69c92f6c6d"
      },
      "source": [
        "df_train.dtypes"
      ],
      "execution_count": 13,
      "outputs": [
        {
          "output_type": "execute_result",
          "data": {
            "text/plain": [
              "ID                object\n",
              "Store_id           int64\n",
              "Store_Type        object\n",
              "Location_Type     object\n",
              "Region_Code       object\n",
              "Date              object\n",
              "Holiday            int64\n",
              "Discount          object\n",
              "#Order             int64\n",
              "Sales            float64\n",
              "dtype: object"
            ]
          },
          "metadata": {},
          "execution_count": 13
        }
      ]
    },
    {
      "cell_type": "code",
      "metadata": {
        "id": "2GhKNa7B5K5X"
      },
      "source": [
        "#Converting data to datetime format\n",
        "\n",
        "df_train['Date'] = pd.to_datetime(df_train['Date'])\n",
        "df_test['Date'] = pd.to_datetime(df_test['Date'])"
      ],
      "execution_count": 14,
      "outputs": []
    },
    {
      "cell_type": "code",
      "metadata": {
        "colab": {
          "base_uri": "https://localhost:8080/"
        },
        "id": "_XuTbbMk8BCo",
        "outputId": "3bb84d41-7c5f-4997-b420-ac045c7e86e1"
      },
      "source": [
        "df_train.isnull().sum()"
      ],
      "execution_count": 15,
      "outputs": [
        {
          "output_type": "execute_result",
          "data": {
            "text/plain": [
              "ID               0\n",
              "Store_id         0\n",
              "Store_Type       0\n",
              "Location_Type    0\n",
              "Region_Code      0\n",
              "Date             0\n",
              "Holiday          0\n",
              "Discount         0\n",
              "#Order           0\n",
              "Sales            0\n",
              "dtype: int64"
            ]
          },
          "metadata": {},
          "execution_count": 15
        }
      ]
    },
    {
      "cell_type": "code",
      "metadata": {
        "colab": {
          "base_uri": "https://localhost:8080/"
        },
        "id": "KCw7q57RAyeA",
        "outputId": "f4b1779a-1ba6-4f1d-b91f-10b5968a6cfa"
      },
      "source": [
        "df_train.Date.dt.year.value_counts()"
      ],
      "execution_count": 16,
      "outputs": [
        {
          "output_type": "execute_result",
          "data": {
            "text/plain": [
              "2018    128349\n",
              "2019     52494\n",
              "Name: Date, dtype: int64"
            ]
          },
          "metadata": {},
          "execution_count": 16
        }
      ]
    },
    {
      "cell_type": "code",
      "metadata": {
        "colab": {
          "base_uri": "https://localhost:8080/"
        },
        "id": "0DAumcWmA5WA",
        "outputId": "e02efa23-3a2f-4661-ab1b-1cdc627f83d7"
      },
      "source": [
        "df_test.Date.dt.year.value_counts()"
      ],
      "execution_count": 17,
      "outputs": [
        {
          "output_type": "execute_result",
          "data": {
            "text/plain": [
              "2019    22265\n",
              "Name: Date, dtype: int64"
            ]
          },
          "metadata": {},
          "execution_count": 17
        }
      ]
    },
    {
      "cell_type": "code",
      "metadata": {
        "id": "rMR4ibLm8Nuq"
      },
      "source": [
        "df_train.dropna(axis = 0, inplace = True)"
      ],
      "execution_count": 18,
      "outputs": []
    },
    {
      "cell_type": "code",
      "metadata": {
        "colab": {
          "base_uri": "https://localhost:8080/"
        },
        "id": "MoUp21no5gq7",
        "outputId": "757a7e37-eaf8-4601-ab46-487de4cf700f"
      },
      "source": [
        "df_train['Store_id'].value_counts()"
      ],
      "execution_count": 19,
      "outputs": [
        {
          "output_type": "execute_result",
          "data": {
            "text/plain": [
              "38     516\n",
              "174    516\n",
              "213    516\n",
              "141    516\n",
              "269    516\n",
              "      ... \n",
              "146    194\n",
              "160    186\n",
              "312    133\n",
              "337    110\n",
              "175     85\n",
              "Name: Store_id, Length: 365, dtype: int64"
            ]
          },
          "metadata": {},
          "execution_count": 19
        }
      ]
    },
    {
      "cell_type": "code",
      "metadata": {
        "colab": {
          "base_uri": "https://localhost:8080/"
        },
        "id": "TUq5pdyr5nSX",
        "outputId": "44a4f3f9-97c6-41ca-c2ff-696d9bd9ff72"
      },
      "source": [
        "df_train['Store_Type'].value_counts()"
      ],
      "execution_count": 20,
      "outputs": [
        {
          "output_type": "execute_result",
          "data": {
            "text/plain": [
              "S1    88390\n",
              "S4    39353\n",
              "S2    28891\n",
              "S3    24209\n",
              "Name: Store_Type, dtype: int64"
            ]
          },
          "metadata": {},
          "execution_count": 20
        }
      ]
    },
    {
      "cell_type": "code",
      "metadata": {
        "colab": {
          "base_uri": "https://localhost:8080/"
        },
        "id": "IJPkv8oT5wYY",
        "outputId": "c9fc9f2c-52f0-4cd4-dc1e-9967e876a7b1"
      },
      "source": [
        "df_train['Region_Code'].value_counts()"
      ],
      "execution_count": 21,
      "outputs": [
        {
          "output_type": "execute_result",
          "data": {
            "text/plain": [
              "R1    59182\n",
              "R2    53013\n",
              "R3    43314\n",
              "R4    25334\n",
              "Name: Region_Code, dtype: int64"
            ]
          },
          "metadata": {},
          "execution_count": 21
        }
      ]
    },
    {
      "cell_type": "code",
      "metadata": {
        "colab": {
          "base_uri": "https://localhost:8080/"
        },
        "id": "QgHDckFn585k",
        "outputId": "2170efc7-e98c-4650-ef1e-42b04bc0d1d3"
      },
      "source": [
        "df_train['Location_Type'].value_counts()"
      ],
      "execution_count": 22,
      "outputs": [
        {
          "output_type": "execute_result",
          "data": {
            "text/plain": [
              "L1    84176\n",
              "L2    42003\n",
              "L3    29901\n",
              "L5    13930\n",
              "L4    10833\n",
              "Name: Location_Type, dtype: int64"
            ]
          },
          "metadata": {},
          "execution_count": 22
        }
      ]
    },
    {
      "cell_type": "code",
      "metadata": {
        "id": "oPfH8j3v7MQt"
      },
      "source": [
        "#Creating new features from Date column\n",
        "\n",
        "df_train['weeknum'] = df_train.Date.dt.week\n",
        "df_test['weeknum'] = df_test.Date.dt.week\n",
        "\n",
        "df_train['Date_OM'] = df_train.Date.dt.day\n",
        "df_test['Date_OM'] = df_test.Date.dt.day\n",
        "\n",
        "df_train['Month'] = df_train.Date.dt.month\n",
        "df_test['Month'] = df_test.Date.dt.month\n",
        "\n",
        "df_train['Year'] = df_train.Date.dt.year\n",
        "df_test['Year'] = df_test.Date.dt.year"
      ],
      "execution_count": 23,
      "outputs": []
    },
    {
      "cell_type": "code",
      "metadata": {
        "id": "X4VT7Z9L-W4g"
      },
      "source": [
        "#Renaming #Order to Order_Count to ease code writing\n",
        "df_train.rename(columns={'#Order':'Order_Count'}, inplace = True)"
      ],
      "execution_count": 24,
      "outputs": []
    },
    {
      "cell_type": "code",
      "metadata": {
        "colab": {
          "base_uri": "https://localhost:8080/",
          "height": 204
        },
        "id": "U4eXbhEX-hwu",
        "outputId": "30ca7545-1d5c-40f3-9058-4ddfb86ad17f"
      },
      "source": [
        "df_train.head()"
      ],
      "execution_count": 25,
      "outputs": [
        {
          "output_type": "execute_result",
          "data": {
            "text/html": [
              "<div>\n",
              "<style scoped>\n",
              "    .dataframe tbody tr th:only-of-type {\n",
              "        vertical-align: middle;\n",
              "    }\n",
              "\n",
              "    .dataframe tbody tr th {\n",
              "        vertical-align: top;\n",
              "    }\n",
              "\n",
              "    .dataframe thead th {\n",
              "        text-align: right;\n",
              "    }\n",
              "</style>\n",
              "<table border=\"1\" class=\"dataframe\">\n",
              "  <thead>\n",
              "    <tr style=\"text-align: right;\">\n",
              "      <th></th>\n",
              "      <th>ID</th>\n",
              "      <th>Store_id</th>\n",
              "      <th>Store_Type</th>\n",
              "      <th>Location_Type</th>\n",
              "      <th>Region_Code</th>\n",
              "      <th>Date</th>\n",
              "      <th>Holiday</th>\n",
              "      <th>Discount</th>\n",
              "      <th>Order_Count</th>\n",
              "      <th>Sales</th>\n",
              "      <th>weeknum</th>\n",
              "      <th>Date_OM</th>\n",
              "      <th>Month</th>\n",
              "      <th>Year</th>\n",
              "    </tr>\n",
              "  </thead>\n",
              "  <tbody>\n",
              "    <tr>\n",
              "      <th>0</th>\n",
              "      <td>T1000001</td>\n",
              "      <td>1</td>\n",
              "      <td>S1</td>\n",
              "      <td>L3</td>\n",
              "      <td>R1</td>\n",
              "      <td>2018-01-01</td>\n",
              "      <td>1</td>\n",
              "      <td>Yes</td>\n",
              "      <td>9</td>\n",
              "      <td>7011.84</td>\n",
              "      <td>1</td>\n",
              "      <td>1</td>\n",
              "      <td>1</td>\n",
              "      <td>2018</td>\n",
              "    </tr>\n",
              "    <tr>\n",
              "      <th>1</th>\n",
              "      <td>T1000002</td>\n",
              "      <td>253</td>\n",
              "      <td>S4</td>\n",
              "      <td>L2</td>\n",
              "      <td>R1</td>\n",
              "      <td>2018-01-01</td>\n",
              "      <td>1</td>\n",
              "      <td>Yes</td>\n",
              "      <td>60</td>\n",
              "      <td>51789.12</td>\n",
              "      <td>1</td>\n",
              "      <td>1</td>\n",
              "      <td>1</td>\n",
              "      <td>2018</td>\n",
              "    </tr>\n",
              "    <tr>\n",
              "      <th>2</th>\n",
              "      <td>T1000003</td>\n",
              "      <td>252</td>\n",
              "      <td>S3</td>\n",
              "      <td>L2</td>\n",
              "      <td>R1</td>\n",
              "      <td>2018-01-01</td>\n",
              "      <td>1</td>\n",
              "      <td>Yes</td>\n",
              "      <td>42</td>\n",
              "      <td>36868.20</td>\n",
              "      <td>1</td>\n",
              "      <td>1</td>\n",
              "      <td>1</td>\n",
              "      <td>2018</td>\n",
              "    </tr>\n",
              "    <tr>\n",
              "      <th>3</th>\n",
              "      <td>T1000004</td>\n",
              "      <td>251</td>\n",
              "      <td>S2</td>\n",
              "      <td>L3</td>\n",
              "      <td>R1</td>\n",
              "      <td>2018-01-01</td>\n",
              "      <td>1</td>\n",
              "      <td>Yes</td>\n",
              "      <td>23</td>\n",
              "      <td>19715.16</td>\n",
              "      <td>1</td>\n",
              "      <td>1</td>\n",
              "      <td>1</td>\n",
              "      <td>2018</td>\n",
              "    </tr>\n",
              "    <tr>\n",
              "      <th>4</th>\n",
              "      <td>T1000005</td>\n",
              "      <td>250</td>\n",
              "      <td>S2</td>\n",
              "      <td>L3</td>\n",
              "      <td>R4</td>\n",
              "      <td>2018-01-01</td>\n",
              "      <td>1</td>\n",
              "      <td>Yes</td>\n",
              "      <td>62</td>\n",
              "      <td>45614.52</td>\n",
              "      <td>1</td>\n",
              "      <td>1</td>\n",
              "      <td>1</td>\n",
              "      <td>2018</td>\n",
              "    </tr>\n",
              "  </tbody>\n",
              "</table>\n",
              "</div>"
            ],
            "text/plain": [
              "         ID  Store_id Store_Type Location_Type  ... weeknum Date_OM  Month  Year\n",
              "0  T1000001         1         S1            L3  ...       1       1      1  2018\n",
              "1  T1000002       253         S4            L2  ...       1       1      1  2018\n",
              "2  T1000003       252         S3            L2  ...       1       1      1  2018\n",
              "3  T1000004       251         S2            L3  ...       1       1      1  2018\n",
              "4  T1000005       250         S2            L3  ...       1       1      1  2018\n",
              "\n",
              "[5 rows x 14 columns]"
            ]
          },
          "metadata": {},
          "execution_count": 25
        }
      ]
    },
    {
      "cell_type": "code",
      "metadata": {
        "id": "3DTb2ye2Hys3"
      },
      "source": [
        "data = df_train.drop(['Order_Count', 'Sales'], axis = 1)\n",
        "test = df_test.copy()"
      ],
      "execution_count": 26,
      "outputs": []
    },
    {
      "cell_type": "code",
      "metadata": {
        "id": "hG43yYM7IINn"
      },
      "source": [
        "#Creating the rolling weeknumber feature\n",
        "\n",
        "data['weeknum_rolling'] = data['Date'].apply(lambda x: x.week if x.year == 2018 else x.week+52)\n",
        "test['weeknum_rolling'] = test['Date'].apply(lambda x: x.week if x.year == 2018 else x.week+52)"
      ],
      "execution_count": 27,
      "outputs": []
    },
    {
      "cell_type": "code",
      "metadata": {
        "id": "aWwjaR-I243Z"
      },
      "source": [
        "#Creating is_weekday feature\n",
        "\n",
        "data['is_weekday'] = data['Date'].apply(lambda x: 1 if x.weekday() < 5 else 0)\n",
        "test['is_weekday'] = test['Date'].apply(lambda x: 1 if x.weekday() < 5 else 0)"
      ],
      "execution_count": 28,
      "outputs": []
    },
    {
      "cell_type": "code",
      "metadata": {
        "id": "K9uNfQhG7tbD"
      },
      "source": [
        "#Creating a function to determine the quarter of the year\n",
        "\n",
        "def year_quarter(month):\n",
        "    if month > 9:\n",
        "        return 4\n",
        "    elif month > 6:\n",
        "        return 3\n",
        "    elif month > 3:\n",
        "        return 2\n",
        "    else:\n",
        "        return 1"
      ],
      "execution_count": 29,
      "outputs": []
    },
    {
      "cell_type": "code",
      "metadata": {
        "colab": {
          "base_uri": "https://localhost:8080/",
          "height": 204
        },
        "id": "MAX2BpyXIHYR",
        "outputId": "ff6cbe0b-9bb3-4a0a-8e62-24829085d61a"
      },
      "source": [
        "data.head()"
      ],
      "execution_count": 30,
      "outputs": [
        {
          "output_type": "execute_result",
          "data": {
            "text/html": [
              "<div>\n",
              "<style scoped>\n",
              "    .dataframe tbody tr th:only-of-type {\n",
              "        vertical-align: middle;\n",
              "    }\n",
              "\n",
              "    .dataframe tbody tr th {\n",
              "        vertical-align: top;\n",
              "    }\n",
              "\n",
              "    .dataframe thead th {\n",
              "        text-align: right;\n",
              "    }\n",
              "</style>\n",
              "<table border=\"1\" class=\"dataframe\">\n",
              "  <thead>\n",
              "    <tr style=\"text-align: right;\">\n",
              "      <th></th>\n",
              "      <th>ID</th>\n",
              "      <th>Store_id</th>\n",
              "      <th>Store_Type</th>\n",
              "      <th>Location_Type</th>\n",
              "      <th>Region_Code</th>\n",
              "      <th>Date</th>\n",
              "      <th>Holiday</th>\n",
              "      <th>Discount</th>\n",
              "      <th>weeknum</th>\n",
              "      <th>Date_OM</th>\n",
              "      <th>Month</th>\n",
              "      <th>Year</th>\n",
              "      <th>weeknum_rolling</th>\n",
              "      <th>is_weekday</th>\n",
              "    </tr>\n",
              "  </thead>\n",
              "  <tbody>\n",
              "    <tr>\n",
              "      <th>0</th>\n",
              "      <td>T1000001</td>\n",
              "      <td>1</td>\n",
              "      <td>S1</td>\n",
              "      <td>L3</td>\n",
              "      <td>R1</td>\n",
              "      <td>2018-01-01</td>\n",
              "      <td>1</td>\n",
              "      <td>Yes</td>\n",
              "      <td>1</td>\n",
              "      <td>1</td>\n",
              "      <td>1</td>\n",
              "      <td>2018</td>\n",
              "      <td>1</td>\n",
              "      <td>1</td>\n",
              "    </tr>\n",
              "    <tr>\n",
              "      <th>1</th>\n",
              "      <td>T1000002</td>\n",
              "      <td>253</td>\n",
              "      <td>S4</td>\n",
              "      <td>L2</td>\n",
              "      <td>R1</td>\n",
              "      <td>2018-01-01</td>\n",
              "      <td>1</td>\n",
              "      <td>Yes</td>\n",
              "      <td>1</td>\n",
              "      <td>1</td>\n",
              "      <td>1</td>\n",
              "      <td>2018</td>\n",
              "      <td>1</td>\n",
              "      <td>1</td>\n",
              "    </tr>\n",
              "    <tr>\n",
              "      <th>2</th>\n",
              "      <td>T1000003</td>\n",
              "      <td>252</td>\n",
              "      <td>S3</td>\n",
              "      <td>L2</td>\n",
              "      <td>R1</td>\n",
              "      <td>2018-01-01</td>\n",
              "      <td>1</td>\n",
              "      <td>Yes</td>\n",
              "      <td>1</td>\n",
              "      <td>1</td>\n",
              "      <td>1</td>\n",
              "      <td>2018</td>\n",
              "      <td>1</td>\n",
              "      <td>1</td>\n",
              "    </tr>\n",
              "    <tr>\n",
              "      <th>3</th>\n",
              "      <td>T1000004</td>\n",
              "      <td>251</td>\n",
              "      <td>S2</td>\n",
              "      <td>L3</td>\n",
              "      <td>R1</td>\n",
              "      <td>2018-01-01</td>\n",
              "      <td>1</td>\n",
              "      <td>Yes</td>\n",
              "      <td>1</td>\n",
              "      <td>1</td>\n",
              "      <td>1</td>\n",
              "      <td>2018</td>\n",
              "      <td>1</td>\n",
              "      <td>1</td>\n",
              "    </tr>\n",
              "    <tr>\n",
              "      <th>4</th>\n",
              "      <td>T1000005</td>\n",
              "      <td>250</td>\n",
              "      <td>S2</td>\n",
              "      <td>L3</td>\n",
              "      <td>R4</td>\n",
              "      <td>2018-01-01</td>\n",
              "      <td>1</td>\n",
              "      <td>Yes</td>\n",
              "      <td>1</td>\n",
              "      <td>1</td>\n",
              "      <td>1</td>\n",
              "      <td>2018</td>\n",
              "      <td>1</td>\n",
              "      <td>1</td>\n",
              "    </tr>\n",
              "  </tbody>\n",
              "</table>\n",
              "</div>"
            ],
            "text/plain": [
              "         ID  Store_id Store_Type  ...  Year weeknum_rolling is_weekday\n",
              "0  T1000001         1         S1  ...  2018               1          1\n",
              "1  T1000002       253         S4  ...  2018               1          1\n",
              "2  T1000003       252         S3  ...  2018               1          1\n",
              "3  T1000004       251         S2  ...  2018               1          1\n",
              "4  T1000005       250         S2  ...  2018               1          1\n",
              "\n",
              "[5 rows x 14 columns]"
            ]
          },
          "metadata": {},
          "execution_count": 30
        }
      ]
    },
    {
      "cell_type": "code",
      "metadata": {
        "id": "SgvVYKL2IZ4L"
      },
      "source": [
        "#Dropping the columns that are not required\n",
        "\n",
        "data.drop(['ID', 'Date'], axis = 1, inplace = True)\n",
        "test.drop(['ID', 'Date'], axis = 1, inplace = True)"
      ],
      "execution_count": 31,
      "outputs": []
    },
    {
      "cell_type": "code",
      "metadata": {
        "id": "w0udJADBIsCQ"
      },
      "source": [
        "#Mapping discount 'Yes' to 1 and 'No' to 0\n",
        "\n",
        "mapping_Discount = {'Yes':1, 'No': 0}\n",
        "data['Discount'] = data['Discount'].map(mapping_Discount)\n",
        "test['Discount'] = test['Discount'].map(mapping_Discount)"
      ],
      "execution_count": 32,
      "outputs": []
    },
    {
      "cell_type": "code",
      "metadata": {
        "id": "Nza1rwf5JBxK"
      },
      "source": [
        "#Performing one hot encoding on Region_Code\n",
        "\n",
        "data = pd.get_dummies(data, columns = ['Region_Code'])\n",
        "test = pd.get_dummies(test, columns = ['Region_Code'])"
      ],
      "execution_count": 33,
      "outputs": []
    },
    {
      "cell_type": "code",
      "metadata": {
        "id": "CX2Ne-cUJHtY"
      },
      "source": [
        "#Creating an Ordinal Encoder for Store_Type and Location_Type since they signify type, not the code\n",
        "\n",
        "from sklearn.preprocessing import OrdinalEncoder\n",
        "oe = OrdinalEncoder()"
      ],
      "execution_count": 34,
      "outputs": []
    },
    {
      "cell_type": "code",
      "metadata": {
        "id": "WS_NCRWfJMxO"
      },
      "source": [
        "data['Store_Type_Enc'] = oe.fit_transform(data['Store_Type'].values.reshape(-1,1))\n",
        "test['Store_Type_Enc'] = oe.transform(test['Store_Type'].values.reshape(-1,1))\n",
        "\n",
        "data['Location_Type_Enc'] = oe.fit_transform(data['Location_Type'].values.reshape(-1,1))\n",
        "test['Location_Type_Enc'] = oe.transform(test['Location_Type'].values.reshape(-1,1))"
      ],
      "execution_count": 35,
      "outputs": []
    },
    {
      "cell_type": "code",
      "metadata": {
        "colab": {
          "base_uri": "https://localhost:8080/",
          "height": 224
        },
        "id": "JUm_K9YLKaVe",
        "outputId": "09d6de7e-a73d-4375-8bc1-532f7c88a318"
      },
      "source": [
        "data.head()"
      ],
      "execution_count": 36,
      "outputs": [
        {
          "output_type": "execute_result",
          "data": {
            "text/html": [
              "<div>\n",
              "<style scoped>\n",
              "    .dataframe tbody tr th:only-of-type {\n",
              "        vertical-align: middle;\n",
              "    }\n",
              "\n",
              "    .dataframe tbody tr th {\n",
              "        vertical-align: top;\n",
              "    }\n",
              "\n",
              "    .dataframe thead th {\n",
              "        text-align: right;\n",
              "    }\n",
              "</style>\n",
              "<table border=\"1\" class=\"dataframe\">\n",
              "  <thead>\n",
              "    <tr style=\"text-align: right;\">\n",
              "      <th></th>\n",
              "      <th>Store_id</th>\n",
              "      <th>Store_Type</th>\n",
              "      <th>Location_Type</th>\n",
              "      <th>Holiday</th>\n",
              "      <th>Discount</th>\n",
              "      <th>weeknum</th>\n",
              "      <th>Date_OM</th>\n",
              "      <th>Month</th>\n",
              "      <th>Year</th>\n",
              "      <th>weeknum_rolling</th>\n",
              "      <th>is_weekday</th>\n",
              "      <th>Region_Code_R1</th>\n",
              "      <th>Region_Code_R2</th>\n",
              "      <th>Region_Code_R3</th>\n",
              "      <th>Region_Code_R4</th>\n",
              "      <th>Store_Type_Enc</th>\n",
              "      <th>Location_Type_Enc</th>\n",
              "    </tr>\n",
              "  </thead>\n",
              "  <tbody>\n",
              "    <tr>\n",
              "      <th>0</th>\n",
              "      <td>1</td>\n",
              "      <td>S1</td>\n",
              "      <td>L3</td>\n",
              "      <td>1</td>\n",
              "      <td>1</td>\n",
              "      <td>1</td>\n",
              "      <td>1</td>\n",
              "      <td>1</td>\n",
              "      <td>2018</td>\n",
              "      <td>1</td>\n",
              "      <td>1</td>\n",
              "      <td>1</td>\n",
              "      <td>0</td>\n",
              "      <td>0</td>\n",
              "      <td>0</td>\n",
              "      <td>0.0</td>\n",
              "      <td>2.0</td>\n",
              "    </tr>\n",
              "    <tr>\n",
              "      <th>1</th>\n",
              "      <td>253</td>\n",
              "      <td>S4</td>\n",
              "      <td>L2</td>\n",
              "      <td>1</td>\n",
              "      <td>1</td>\n",
              "      <td>1</td>\n",
              "      <td>1</td>\n",
              "      <td>1</td>\n",
              "      <td>2018</td>\n",
              "      <td>1</td>\n",
              "      <td>1</td>\n",
              "      <td>1</td>\n",
              "      <td>0</td>\n",
              "      <td>0</td>\n",
              "      <td>0</td>\n",
              "      <td>3.0</td>\n",
              "      <td>1.0</td>\n",
              "    </tr>\n",
              "    <tr>\n",
              "      <th>2</th>\n",
              "      <td>252</td>\n",
              "      <td>S3</td>\n",
              "      <td>L2</td>\n",
              "      <td>1</td>\n",
              "      <td>1</td>\n",
              "      <td>1</td>\n",
              "      <td>1</td>\n",
              "      <td>1</td>\n",
              "      <td>2018</td>\n",
              "      <td>1</td>\n",
              "      <td>1</td>\n",
              "      <td>1</td>\n",
              "      <td>0</td>\n",
              "      <td>0</td>\n",
              "      <td>0</td>\n",
              "      <td>2.0</td>\n",
              "      <td>1.0</td>\n",
              "    </tr>\n",
              "    <tr>\n",
              "      <th>3</th>\n",
              "      <td>251</td>\n",
              "      <td>S2</td>\n",
              "      <td>L3</td>\n",
              "      <td>1</td>\n",
              "      <td>1</td>\n",
              "      <td>1</td>\n",
              "      <td>1</td>\n",
              "      <td>1</td>\n",
              "      <td>2018</td>\n",
              "      <td>1</td>\n",
              "      <td>1</td>\n",
              "      <td>1</td>\n",
              "      <td>0</td>\n",
              "      <td>0</td>\n",
              "      <td>0</td>\n",
              "      <td>1.0</td>\n",
              "      <td>2.0</td>\n",
              "    </tr>\n",
              "    <tr>\n",
              "      <th>4</th>\n",
              "      <td>250</td>\n",
              "      <td>S2</td>\n",
              "      <td>L3</td>\n",
              "      <td>1</td>\n",
              "      <td>1</td>\n",
              "      <td>1</td>\n",
              "      <td>1</td>\n",
              "      <td>1</td>\n",
              "      <td>2018</td>\n",
              "      <td>1</td>\n",
              "      <td>1</td>\n",
              "      <td>0</td>\n",
              "      <td>0</td>\n",
              "      <td>0</td>\n",
              "      <td>1</td>\n",
              "      <td>1.0</td>\n",
              "      <td>2.0</td>\n",
              "    </tr>\n",
              "  </tbody>\n",
              "</table>\n",
              "</div>"
            ],
            "text/plain": [
              "   Store_id Store_Type  ... Store_Type_Enc  Location_Type_Enc\n",
              "0         1         S1  ...            0.0                2.0\n",
              "1       253         S4  ...            3.0                1.0\n",
              "2       252         S3  ...            2.0                1.0\n",
              "3       251         S2  ...            1.0                2.0\n",
              "4       250         S2  ...            1.0                2.0\n",
              "\n",
              "[5 rows x 17 columns]"
            ]
          },
          "metadata": {},
          "execution_count": 36
        }
      ]
    },
    {
      "cell_type": "code",
      "metadata": {
        "id": "l260g04tK_4u"
      },
      "source": [
        "data.drop(['Location_Type', 'Store_Type'], axis = 1, inplace = True)\n",
        "test.drop(['Location_Type', 'Store_Type'], axis = 1, inplace = True)"
      ],
      "execution_count": 37,
      "outputs": []
    },
    {
      "cell_type": "code",
      "metadata": {
        "id": "Tfd4fts-KhSk"
      },
      "source": [
        "#Importing the XGBRegressor\n",
        "\n",
        "from xgboost import XGBRegressor"
      ],
      "execution_count": 38,
      "outputs": []
    },
    {
      "cell_type": "code",
      "metadata": {
        "id": "z7zlgqONKncs"
      },
      "source": [
        "model = XGBRegressor(objective = 'reg:squarederror', n_estimators= 120, max_depth = 4)"
      ],
      "execution_count": 39,
      "outputs": []
    },
    {
      "cell_type": "code",
      "metadata": {
        "id": "9oLCGBVYKpu6"
      },
      "source": [
        "#Creating the training data for fitting to predict Order_Count for test\n",
        "\n",
        "X_train = data\n",
        "y_train = df_train['Order_Count']"
      ],
      "execution_count": 40,
      "outputs": []
    },
    {
      "cell_type": "code",
      "metadata": {
        "colab": {
          "base_uri": "https://localhost:8080/"
        },
        "id": "CSmBJGAgK4DQ",
        "outputId": "75fd1cdb-63d3-401f-f6a2-844dbefe3ecd"
      },
      "source": [
        "model.fit(X_train, y_train)"
      ],
      "execution_count": 41,
      "outputs": [
        {
          "output_type": "execute_result",
          "data": {
            "text/plain": [
              "XGBRegressor(base_score=0.5, booster='gbtree', colsample_bylevel=1,\n",
              "             colsample_bynode=1, colsample_bytree=1, gamma=0,\n",
              "             importance_type='gain', learning_rate=0.1, max_delta_step=0,\n",
              "             max_depth=4, min_child_weight=1, missing=None, n_estimators=120,\n",
              "             n_jobs=1, nthread=None, objective='reg:squarederror',\n",
              "             random_state=0, reg_alpha=0, reg_lambda=1, scale_pos_weight=1,\n",
              "             seed=None, silent=None, subsample=1, verbosity=1)"
            ]
          },
          "metadata": {},
          "execution_count": 41
        }
      ]
    },
    {
      "cell_type": "code",
      "metadata": {
        "id": "1nIGVz_BK6o7"
      },
      "source": [
        "#predicting Order count for test data\n",
        "\n",
        "order_preds = model.predict(test)"
      ],
      "execution_count": 42,
      "outputs": []
    },
    {
      "cell_type": "code",
      "metadata": {
        "id": "_cQ1P4hcLeZz"
      },
      "source": [
        "test['Order_Count'] = order_preds"
      ],
      "execution_count": 43,
      "outputs": []
    },
    {
      "cell_type": "code",
      "metadata": {
        "id": "4ywTlgZALoxr"
      },
      "source": [
        "X_train['Order_Count'] = df_train['Order_Count']\n",
        "y_train = data_main['Sales']"
      ],
      "execution_count": 44,
      "outputs": []
    },
    {
      "cell_type": "code",
      "metadata": {
        "colab": {
          "base_uri": "https://localhost:8080/"
        },
        "id": "mjBg8cUaLtRx",
        "outputId": "6c7503ae-f311-4f51-9479-5f03dee39d45"
      },
      "source": [
        "#Creating a new model to predict Sales for test data\n",
        "\n",
        "new_model = XGBRegressor(objective = 'reg:squarederror', n_estimators= 120, max_depth = 4)\n",
        "new_model.fit(X_train, y_train)"
      ],
      "execution_count": 45,
      "outputs": [
        {
          "output_type": "execute_result",
          "data": {
            "text/plain": [
              "XGBRegressor(base_score=0.5, booster='gbtree', colsample_bylevel=1,\n",
              "             colsample_bynode=1, colsample_bytree=1, gamma=0,\n",
              "             importance_type='gain', learning_rate=0.1, max_delta_step=0,\n",
              "             max_depth=4, min_child_weight=1, missing=None, n_estimators=120,\n",
              "             n_jobs=1, nthread=None, objective='reg:squarederror',\n",
              "             random_state=0, reg_alpha=0, reg_lambda=1, scale_pos_weight=1,\n",
              "             seed=None, silent=None, subsample=1, verbosity=1)"
            ]
          },
          "metadata": {},
          "execution_count": 45
        }
      ]
    },
    {
      "cell_type": "code",
      "metadata": {
        "id": "xYPXdU_iNLeX"
      },
      "source": [
        "preds_final = new_model.predict(test)"
      ],
      "execution_count": 46,
      "outputs": []
    },
    {
      "cell_type": "code",
      "metadata": {
        "id": "9z64krQENO67"
      },
      "source": [
        "#Creating a dataframe for submissions\n",
        "\n",
        "submission = pd.DataFrame()\n",
        "submission['ID'] = test_main['ID']\n",
        "submission['Sales'] = preds_final"
      ],
      "execution_count": 47,
      "outputs": []
    },
    {
      "cell_type": "code",
      "metadata": {
        "id": "4eIoE_uA-z2-",
        "colab": {
          "base_uri": "https://localhost:8080/",
          "height": 204
        },
        "outputId": "18413407-1038-4b65-d8bd-1c825586bd3c"
      },
      "source": [
        "submission.head()"
      ],
      "execution_count": 48,
      "outputs": [
        {
          "output_type": "execute_result",
          "data": {
            "text/html": [
              "<div>\n",
              "<style scoped>\n",
              "    .dataframe tbody tr th:only-of-type {\n",
              "        vertical-align: middle;\n",
              "    }\n",
              "\n",
              "    .dataframe tbody tr th {\n",
              "        vertical-align: top;\n",
              "    }\n",
              "\n",
              "    .dataframe thead th {\n",
              "        text-align: right;\n",
              "    }\n",
              "</style>\n",
              "<table border=\"1\" class=\"dataframe\">\n",
              "  <thead>\n",
              "    <tr style=\"text-align: right;\">\n",
              "      <th></th>\n",
              "      <th>ID</th>\n",
              "      <th>Sales</th>\n",
              "    </tr>\n",
              "  </thead>\n",
              "  <tbody>\n",
              "    <tr>\n",
              "      <th>0</th>\n",
              "      <td>T1188341</td>\n",
              "      <td>66988.140625</td>\n",
              "    </tr>\n",
              "    <tr>\n",
              "      <th>1</th>\n",
              "      <td>T1188342</td>\n",
              "      <td>47413.191406</td>\n",
              "    </tr>\n",
              "    <tr>\n",
              "      <th>2</th>\n",
              "      <td>T1188343</td>\n",
              "      <td>70383.914062</td>\n",
              "    </tr>\n",
              "    <tr>\n",
              "      <th>3</th>\n",
              "      <td>T1188344</td>\n",
              "      <td>49782.582031</td>\n",
              "    </tr>\n",
              "    <tr>\n",
              "      <th>4</th>\n",
              "      <td>T1188345</td>\n",
              "      <td>48906.929688</td>\n",
              "    </tr>\n",
              "  </tbody>\n",
              "</table>\n",
              "</div>"
            ],
            "text/plain": [
              "         ID         Sales\n",
              "0  T1188341  66988.140625\n",
              "1  T1188342  47413.191406\n",
              "2  T1188343  70383.914062\n",
              "3  T1188344  49782.582031\n",
              "4  T1188345  48906.929688"
            ]
          },
          "metadata": {},
          "execution_count": 48
        }
      ]
    },
    {
      "cell_type": "code",
      "metadata": {
        "id": "dwjniw7BO8-m"
      },
      "source": [
        "#Exporting submission\n",
        "submission.to_csv('S25.csv', index = False)"
      ],
      "execution_count": 51,
      "outputs": []
    },
    {
      "cell_type": "code",
      "metadata": {
        "colab": {
          "base_uri": "https://localhost:8080/"
        },
        "id": "Tdj0YuejPdzY",
        "outputId": "48d1bb3a-71cc-4a35-9333-c5a1806efa4f"
      },
      "source": [
        "preds_final.min()"
      ],
      "execution_count": 52,
      "outputs": [
        {
          "output_type": "execute_result",
          "data": {
            "text/plain": [
              "19552.672"
            ]
          },
          "metadata": {},
          "execution_count": 52
        }
      ]
    },
    {
      "cell_type": "code",
      "metadata": {
        "id": "h9iIneUhQ6b1"
      },
      "source": [
        ""
      ],
      "execution_count": 50,
      "outputs": []
    }
  ]
}